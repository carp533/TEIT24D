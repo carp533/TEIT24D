{
 "cells": [
  {
   "cell_type": "code",
   "execution_count": null,
   "metadata": {},
   "outputs": [],
   "source": [
    "import numpy as np\n",
    "import matplotlib.pyplot as plt\n",
    "\n",
    "# Werte für n\n",
    "n = np.linspace(1, 100, 100)\n",
    "\n",
    "# Komplexitätsfunktionen\n",
    "O_1 = np.ones_like(n)               # O(1)\n",
    "O_log_n = np.log(n)                 # O(log n)\n",
    "O_n = n                             # O(n)\n",
    "O_n_log_n = n * np.log(n)           # O(n log n)\n",
    "O_n2 = n**2                         # O(n^2)\n",
    "O_n5 = n**5                         # O(n^k)\n",
    "O_2n = 2**n                         # O(2^n)\n",
    "\n",
    "# Logarithmisches Diagramm\n",
    "plt.figure(figsize=(10, 6))\n",
    "plt.plot(n, O_1, label=\"O(1)\")\n",
    "plt.plot(n, O_log_n, label=\"O(log n)\")\n",
    "plt.plot(n, O_n, label=\"O(n)\")\n",
    "plt.plot(n, O_n_log_n, label=\"O(n log n)\")\n",
    "plt.plot(n, O_n2, label=\"O(n^2)\")\n",
    "plt.plot(n, O_n5, label=\"O(n^5)\")\n",
    "plt.plot(n, O_2n, label=\"O(2^n)\", linestyle='dotted') \n",
    "\n",
    "# Einstellungen für die logarithmische Skala\n",
    "plt.yscale('log')\n",
    "plt.xscale('log')\n",
    "plt.xlabel(\"Eingabemenge (n)\")\n",
    "plt.ylabel(\"Wachstumsrate\")\n",
    "plt.title(\"Wachstumsraten der O-Notation (logarithmisch)\")\n",
    "plt.legend()\n",
    "plt.grid(which=\"both\", linestyle=\"--\", linewidth=0.5)\n",
    "plt.tight_layout()\n",
    "plt.savefig(\"laufzeiten.png\") #Speichern VOR anzeigen...\n",
    "plt.show()\n"
   ]
  },
  {
   "cell_type": "code",
   "execution_count": null,
   "metadata": {},
   "outputs": [],
   "source": []
  }
 ],
 "metadata": {
  "kernelspec": {
   "display_name": "base",
   "language": "python",
   "name": "python3"
  },
  "language_info": {
   "codemirror_mode": {
    "name": "ipython",
    "version": 3
   },
   "file_extension": ".py",
   "mimetype": "text/x-python",
   "name": "python",
   "nbconvert_exporter": "python",
   "pygments_lexer": "ipython3",
   "version": "3.10.9"
  }
 },
 "nbformat": 4,
 "nbformat_minor": 2
}
